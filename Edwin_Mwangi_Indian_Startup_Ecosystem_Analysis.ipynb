{
  "nbformat": 4,
  "nbformat_minor": 0,
  "metadata": {
    "colab": {
      "provenance": []
    },
    "kernelspec": {
      "name": "python3",
      "display_name": "Python 3"
    },
    "language_info": {
      "name": "python"
    }
  },
  "cells": [
    {
      "cell_type": "markdown",
      "source": [
        "## Details\n",
        "Name : Edwin Muiga Mwangi <br>\n",
        "email: edwin.muiga@azubiafrica.org <br>\n",
        "Team: Prague <br>\n",
        "Link to Github Repo - ([GitHub](https://github.com/muiga-mwangi/bohemian-origination/))\n",
        "\n",
        "\n",
        "Project - Indian Startup Funding"
      ],
      "metadata": {
        "id": "g1XWeXzjFPcC"
      }
    },
    {
      "cell_type": "markdown",
      "source": [
        "# Intro\n",
        "\n",
        "## Project Intro and Objective\n",
        "**Objective** - Our team is trying to venture into the Indian startup ecosystem. As the data experts of the team we are supposed to investigate the ecosystem and propose the best course of action.\n",
        "\n",
        "## Business & Data Understanding\n",
        "**How does Venture Capital Funding Work?** The process entails entrepreneurs pitching an idea to potential investors seeking finances (funding) to start/improve the business in various ways. A business plan is often a requirement for Venture Capitalist to assess the viability of the entrepreneur’s idea. **Invention** and **Innovation** are key concepts related to Venture Capital funding. Roughly 80% of funding goes into building infrastructure needed to grow the business. (Expenses `[manufacturing, sales, marketing]` and Balance Sheet `[working capital & assets]`).\n",
        "\n",
        "Venture Capital Funding is short-term oriented - it is meant to grow the business to a point where it can be later sold off (to a Corporation or theough IPO). Sometimes the VC wants **equity** (a share of the business). Start-ups (esp. in the new information economy) lack hard assets and can’t therefore access funding from banks (require collateral)\n",
        "**Large institutions** are often behind VC funds – insurance companies, pension funds, financial firms, universities. **Angel Investors** who are High net worth individuals are also participants. While screening ideas or after giving funding to businesses, Venture Capitalists can impose restrictions on behaviour of entrepreneurs.\n",
        "\n",
        "While looking at the **The Indian Venture Capital context**,  we see a booming start-up ecosystem that has become one of the world’s most vibrant and innovative business environments. Country is increasingly being recognized as popular destinations for venture capital (VC) investments. Early-stage investments are seeing particularly strong growth in recent years while Domestic investors are still the most active investor group.\n",
        "\n",
        "The are several stages of **Startup/Venture Capital Funding** - \n",
        "1. **Seed Funding** - the earliest stage of capital raising process as business hasn't started and is only an idea. It is considered the most risky and complicated as investor doesn’t have enough info to make a decision. Main participants are mostly Angel Investors (appreciate riskier ventures and expect high returns). Management/Soft skills of entrepreneur can determine business success (although modern Tech challenges this view).\n",
        "2. **Series A Fianncing** - A type of equity-based financing (company offers convertible preferred shares). Consists of businesses that already generate revenues but are still in the pre-profit stage. Primary objective of funding is for continued growth. It follows a more formal process – more complete company info, valuation of company done & VC firm does due diligence (progress made since start, management’s efficiency in managing resources). Series A rounds raise approximately $2 million to $15 million and the median Series A funding 2021 = $10 million. ([Investopedia](https://www.investopedia.com/articles/personal-finance/102015/series-b-c-funding-what-it-all-means-and-how-it-works.asp))\n",
        "3. **Series B Financing** - this is the 3rd Stage Start-up financing and the 2nd stage VC financing. Like Series A, it is also equity based. The business is already in middle stages of growth, has a user base and could be generating profit. It is now looking to expand their market. More participants enter at  this stage as they are willing to invest in later stages of growth. The objective of funding here is to take business past development stage, help business scale or meet levels of demand. Most participants here are Venture Capital firms and private equity firms.\n",
        "\n",
        " \n",
        "\n",
        "## Overview of the Data\n",
        "\n",
        "The dataset available coonsists of the following peices of data;\n",
        "1. Startup Name/Brand\n",
        "2. Year of Founding\n",
        "3. Location/Headquarters of Business\n",
        "4. Sector of the business\n",
        "5. Founders (Owners)\n",
        "6. Investor (assume it’s the VCs)\n",
        "7. Amount of Funding\n",
        "8. Stage (at which business is in while seeking/offered funding)\n",
        "\n",
        "**Note** - The 2018 Data Lacks some of the above data and has conflict of some data (like currency)."
      ],
      "metadata": {
        "id": "wW3v1-2n3CzK"
      }
    },
    {
      "cell_type": "markdown",
      "source": [
        "# Hypothesis\n",
        "\n",
        "**Null Hypothesis** – No factors determine the amount of funding offered to a start-up by venture capitalists in India.\n",
        "\n",
        "**Alternative Hypothesis** – A range of factors about a start-up(characteristics) such as sector it wants to venture into, use of technology or years its has been in existence, stage of growth and location determine the amount of funding offered to start-ups by venture capitalists in India.\n",
        "\n",
        "# Research Questions\n",
        "\n",
        "**Sector**\n",
        "1. What sectors have attracted the largest funding in the last 4 years?\n",
        "2. Who are the major funders of ventures in India in the last 4 years? And what are the major sectors they are directing their funding?\n",
        "3. What are the Maximum, Minimum, Average and Median Funding amounts offered to each sector/ stage of funding and how do they compare?\n",
        "4. What is the trend of financing over the four years, cumulatively (total funding) and in independent sectors? (Monthly and/Yearly Trends)\n",
        "**Technology**\n",
        "5. What business technologies have recieved the highest funding or have been funded more over the last four years?\n",
        "**Location**\n",
        "6. What locations have received the biggest funding?\n",
        "7. What is the spread of Venture Capital funding in India regionally and how do they compare?\n",
        "**Stage**\n",
        "8. Does the stage of the venture affect the amount of funding offered to ventures?\n",
        "9. How many ventures that have got a previous round of financing gone on to successfully raise another stage of financing?\n",
        "**Founders**\n",
        "10. Does the number of business owners (entrepreneurs) in a venture determine the amount/likelihood of funding from investors?\n",
        "11. Does the year of founding determine/influence the funding amount?"
      ],
      "metadata": {
        "id": "n4VFUnkuexCE"
      }
    },
    {
      "cell_type": "markdown",
      "source": [
        "## Installation\n",
        "Here is the section to install all the packages/libraries that will be needed to tackle the challlenge."
      ],
      "metadata": {
        "id": "qdFpRxPje1gw"
      }
    },
    {
      "cell_type": "code",
      "source": [
        "# !pip install -q <lib_001> <lib_002> ..."
      ],
      "metadata": {
        "id": "W-d-roFQe6yi"
      },
      "execution_count": null,
      "outputs": []
    },
    {
      "cell_type": "markdown",
      "source": [
        "## Importation\n",
        "Here is the section to import all the packages/libraries that will be used through this notebook."
      ],
      "metadata": {
        "id": "0HmLxlQre7HW"
      }
    },
    {
      "cell_type": "code",
      "source": [
        "# Data handling\n",
        "import pandas as pd\n",
        "\n",
        "# Vizualisation (Matplotlib, Plotly, Seaborn, etc. )\n",
        "...\n",
        "\n",
        "# EDA (pandas-profiling, etc. )\n",
        "...\n",
        "\n",
        "# Feature Processing (Scikit-learn processing, etc. )\n",
        "...\n",
        "\n",
        "# Machine Learning (Scikit-learn Estimators, Catboost, LightGBM, etc. )\n",
        "...\n",
        "\n",
        "# Hyperparameters Fine-tuning (Scikit-learn hp search, cross-validation, etc. )\n",
        "...\n",
        "\n",
        "# Other packages\n",
        "import os\n"
      ],
      "metadata": {
        "id": "MP62JaiKfCnS"
      },
      "execution_count": null,
      "outputs": []
    },
    {
      "cell_type": "markdown",
      "source": [
        "# Data Loading\n",
        "Here is the section to load the datasets (train, eval, test) and the additional files"
      ],
      "metadata": {
        "id": "UfOADQf0e9i1"
      }
    },
    {
      "cell_type": "code",
      "source": [
        "# For CSV, use pandas.read_csv"
      ],
      "metadata": {
        "id": "KIQyG5EcfQlU"
      },
      "execution_count": null,
      "outputs": []
    },
    {
      "cell_type": "markdown",
      "source": [
        "# Exploratory Data Analysis: EDA\n",
        "Here is the section to **inspect** the datasets in depth, **present** it, make **hypotheses** and **think** the *cleaning, processing and features creation*."
      ],
      "metadata": {
        "id": "okaZxnc3fRId"
      }
    },
    {
      "cell_type": "markdown",
      "source": [
        "## Dataset overview\n",
        "\n",
        "Have a look at the loaded datsets using the following methods: `.head(), .info()`"
      ],
      "metadata": {
        "id": "kTvnZQUlD6vf"
      }
    },
    {
      "cell_type": "code",
      "source": [
        "# Code here"
      ],
      "metadata": {
        "id": "0VNR9LfZfbGe"
      },
      "execution_count": null,
      "outputs": []
    },
    {
      "cell_type": "code",
      "source": [
        "# Code here"
      ],
      "metadata": {
        "id": "3oUlBJbRFa2t"
      },
      "execution_count": null,
      "outputs": []
    },
    {
      "cell_type": "markdown",
      "source": [
        "## Univariate Analysis\n",
        "\n",
        "‘Univariate analysis’ is the analysis of one variable at a time. This analysis might be done by computing some statistical indicators and by plotting some charts respectively using the pandas dataframe's method `.describe()` and one of the plotting libraries like  [Seaborn](https://seaborn.pydata.org/), [Matplotlib](https://matplotlib.org/), [Plotly](https://seaborn.pydata.org/), etc.\n",
        "\n",
        "Please, read [this article](https://towardsdatascience.com/8-seaborn-plots-for-univariate-exploratory-data-analysis-eda-in-python-9d280b6fe67f) to know more about the charts."
      ],
      "metadata": {
        "id": "1jp5LfsvF72x"
      }
    },
    {
      "cell_type": "code",
      "source": [
        "# Code here"
      ],
      "metadata": {
        "id": "z2MH6TKPFbBA"
      },
      "execution_count": null,
      "outputs": []
    },
    {
      "cell_type": "markdown",
      "source": [
        "## Multivariate Analysis\n",
        "\n",
        "Multivariate analysis’ is the analysis of more than one variable and aims to study the relationships among them. This analysis might be done by computing some statistical indicators like the `correlation` and by plotting some charts.\n",
        "\n",
        "Please, read [this article](https://towardsdatascience.com/10-must-know-seaborn-functions-for-multivariate-data-analysis-in-python-7ba94847b117) to know more about the charts."
      ],
      "metadata": {
        "id": "TP-DiZvsWs0F"
      }
    },
    {
      "cell_type": "code",
      "source": [
        "# Code here"
      ],
      "metadata": {
        "id": "NbYppWX8cfds"
      },
      "execution_count": null,
      "outputs": []
    },
    {
      "cell_type": "markdown",
      "source": [
        "# Feature processing\n",
        "Here is the section to **clean** and **process** the features of the dataset."
      ],
      "metadata": {
        "id": "2pfMjvtNhlfB"
      }
    },
    {
      "cell_type": "markdown",
      "source": [
        "## Missing/NaN Values\n",
        "Handle the missing/NaN values using the Scikif-learn SimpleImputer"
      ],
      "metadata": {
        "id": "RR_0P-SJiPx_"
      }
    },
    {
      "cell_type": "code",
      "source": [
        "# Code Here"
      ],
      "metadata": {
        "id": "0YgaX0jfLcaK"
      },
      "execution_count": null,
      "outputs": []
    },
    {
      "cell_type": "markdown",
      "source": [
        "## Scaling\n",
        "Scale the numeric features using the Scikif-learn StandardScaler, MinMaxScaler, or another Scaler."
      ],
      "metadata": {
        "id": "YipqthozL2kt"
      }
    },
    {
      "cell_type": "code",
      "source": [
        "# Code here"
      ],
      "metadata": {
        "id": "aI7jM-rZMYCG"
      },
      "execution_count": null,
      "outputs": []
    },
    {
      "cell_type": "markdown",
      "source": [
        "## Encoding\n",
        "Encode the categorical features using the Scikif-learn OneHotEncoder."
      ],
      "metadata": {
        "id": "XdFcGOxHMalr"
      }
    },
    {
      "cell_type": "code",
      "source": [
        "# Code here"
      ],
      "metadata": {
        "id": "sAMvupuRMs-P"
      },
      "execution_count": null,
      "outputs": []
    }
  ]
}